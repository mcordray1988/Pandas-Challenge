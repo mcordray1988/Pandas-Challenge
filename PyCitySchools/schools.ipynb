{
 "cells": [
  {
   "cell_type": "code",
   "execution_count": 1,
   "metadata": {},
   "outputs": [],
   "source": [
    "import pandas as pd\n",
    "import numpy as np"
   ]
  },
  {
   "cell_type": "code",
   "execution_count": 2,
   "metadata": {},
   "outputs": [
    {
     "data": {
      "text/html": [
       "<div>\n",
       "<style scoped>\n",
       "    .dataframe tbody tr th:only-of-type {\n",
       "        vertical-align: middle;\n",
       "    }\n",
       "\n",
       "    .dataframe tbody tr th {\n",
       "        vertical-align: top;\n",
       "    }\n",
       "\n",
       "    .dataframe thead th {\n",
       "        text-align: right;\n",
       "    }\n",
       "</style>\n",
       "<table border=\"1\" class=\"dataframe\">\n",
       "  <thead>\n",
       "    <tr style=\"text-align: right;\">\n",
       "      <th></th>\n",
       "      <th>School ID</th>\n",
       "      <th>school_name</th>\n",
       "      <th>type</th>\n",
       "      <th>size</th>\n",
       "      <th>budget</th>\n",
       "      <th>Student ID</th>\n",
       "      <th>student_name</th>\n",
       "      <th>gender</th>\n",
       "      <th>grade</th>\n",
       "      <th>reading_score</th>\n",
       "      <th>math_score</th>\n",
       "    </tr>\n",
       "  </thead>\n",
       "  <tbody>\n",
       "    <tr>\n",
       "      <td>0</td>\n",
       "      <td>0</td>\n",
       "      <td>Huang High School</td>\n",
       "      <td>District</td>\n",
       "      <td>2917</td>\n",
       "      <td>1910635</td>\n",
       "      <td>0</td>\n",
       "      <td>Paul Bradley</td>\n",
       "      <td>M</td>\n",
       "      <td>9th</td>\n",
       "      <td>66</td>\n",
       "      <td>79</td>\n",
       "    </tr>\n",
       "    <tr>\n",
       "      <td>1</td>\n",
       "      <td>0</td>\n",
       "      <td>Huang High School</td>\n",
       "      <td>District</td>\n",
       "      <td>2917</td>\n",
       "      <td>1910635</td>\n",
       "      <td>1</td>\n",
       "      <td>Victor Smith</td>\n",
       "      <td>M</td>\n",
       "      <td>12th</td>\n",
       "      <td>94</td>\n",
       "      <td>61</td>\n",
       "    </tr>\n",
       "    <tr>\n",
       "      <td>2</td>\n",
       "      <td>0</td>\n",
       "      <td>Huang High School</td>\n",
       "      <td>District</td>\n",
       "      <td>2917</td>\n",
       "      <td>1910635</td>\n",
       "      <td>2</td>\n",
       "      <td>Kevin Rodriguez</td>\n",
       "      <td>M</td>\n",
       "      <td>12th</td>\n",
       "      <td>90</td>\n",
       "      <td>60</td>\n",
       "    </tr>\n",
       "    <tr>\n",
       "      <td>3</td>\n",
       "      <td>0</td>\n",
       "      <td>Huang High School</td>\n",
       "      <td>District</td>\n",
       "      <td>2917</td>\n",
       "      <td>1910635</td>\n",
       "      <td>3</td>\n",
       "      <td>Dr. Richard Scott</td>\n",
       "      <td>M</td>\n",
       "      <td>12th</td>\n",
       "      <td>67</td>\n",
       "      <td>58</td>\n",
       "    </tr>\n",
       "    <tr>\n",
       "      <td>4</td>\n",
       "      <td>0</td>\n",
       "      <td>Huang High School</td>\n",
       "      <td>District</td>\n",
       "      <td>2917</td>\n",
       "      <td>1910635</td>\n",
       "      <td>4</td>\n",
       "      <td>Bonnie Ray</td>\n",
       "      <td>F</td>\n",
       "      <td>9th</td>\n",
       "      <td>97</td>\n",
       "      <td>84</td>\n",
       "    </tr>\n",
       "    <tr>\n",
       "      <td>...</td>\n",
       "      <td>...</td>\n",
       "      <td>...</td>\n",
       "      <td>...</td>\n",
       "      <td>...</td>\n",
       "      <td>...</td>\n",
       "      <td>...</td>\n",
       "      <td>...</td>\n",
       "      <td>...</td>\n",
       "      <td>...</td>\n",
       "      <td>...</td>\n",
       "      <td>...</td>\n",
       "    </tr>\n",
       "    <tr>\n",
       "      <td>39165</td>\n",
       "      <td>14</td>\n",
       "      <td>Thomas High School</td>\n",
       "      <td>Charter</td>\n",
       "      <td>1635</td>\n",
       "      <td>1043130</td>\n",
       "      <td>39165</td>\n",
       "      <td>Donna Howard</td>\n",
       "      <td>F</td>\n",
       "      <td>12th</td>\n",
       "      <td>99</td>\n",
       "      <td>90</td>\n",
       "    </tr>\n",
       "    <tr>\n",
       "      <td>39166</td>\n",
       "      <td>14</td>\n",
       "      <td>Thomas High School</td>\n",
       "      <td>Charter</td>\n",
       "      <td>1635</td>\n",
       "      <td>1043130</td>\n",
       "      <td>39166</td>\n",
       "      <td>Dawn Bell</td>\n",
       "      <td>F</td>\n",
       "      <td>10th</td>\n",
       "      <td>95</td>\n",
       "      <td>70</td>\n",
       "    </tr>\n",
       "    <tr>\n",
       "      <td>39167</td>\n",
       "      <td>14</td>\n",
       "      <td>Thomas High School</td>\n",
       "      <td>Charter</td>\n",
       "      <td>1635</td>\n",
       "      <td>1043130</td>\n",
       "      <td>39167</td>\n",
       "      <td>Rebecca Tanner</td>\n",
       "      <td>F</td>\n",
       "      <td>9th</td>\n",
       "      <td>73</td>\n",
       "      <td>84</td>\n",
       "    </tr>\n",
       "    <tr>\n",
       "      <td>39168</td>\n",
       "      <td>14</td>\n",
       "      <td>Thomas High School</td>\n",
       "      <td>Charter</td>\n",
       "      <td>1635</td>\n",
       "      <td>1043130</td>\n",
       "      <td>39168</td>\n",
       "      <td>Desiree Kidd</td>\n",
       "      <td>F</td>\n",
       "      <td>10th</td>\n",
       "      <td>99</td>\n",
       "      <td>90</td>\n",
       "    </tr>\n",
       "    <tr>\n",
       "      <td>39169</td>\n",
       "      <td>14</td>\n",
       "      <td>Thomas High School</td>\n",
       "      <td>Charter</td>\n",
       "      <td>1635</td>\n",
       "      <td>1043130</td>\n",
       "      <td>39169</td>\n",
       "      <td>Carolyn Jackson</td>\n",
       "      <td>F</td>\n",
       "      <td>11th</td>\n",
       "      <td>95</td>\n",
       "      <td>75</td>\n",
       "    </tr>\n",
       "  </tbody>\n",
       "</table>\n",
       "<p>39170 rows × 11 columns</p>\n",
       "</div>"
      ],
      "text/plain": [
       "       School ID         school_name      type  size   budget  Student ID  \\\n",
       "0              0   Huang High School  District  2917  1910635           0   \n",
       "1              0   Huang High School  District  2917  1910635           1   \n",
       "2              0   Huang High School  District  2917  1910635           2   \n",
       "3              0   Huang High School  District  2917  1910635           3   \n",
       "4              0   Huang High School  District  2917  1910635           4   \n",
       "...          ...                 ...       ...   ...      ...         ...   \n",
       "39165         14  Thomas High School   Charter  1635  1043130       39165   \n",
       "39166         14  Thomas High School   Charter  1635  1043130       39166   \n",
       "39167         14  Thomas High School   Charter  1635  1043130       39167   \n",
       "39168         14  Thomas High School   Charter  1635  1043130       39168   \n",
       "39169         14  Thomas High School   Charter  1635  1043130       39169   \n",
       "\n",
       "            student_name gender grade  reading_score  math_score  \n",
       "0           Paul Bradley      M   9th             66          79  \n",
       "1           Victor Smith      M  12th             94          61  \n",
       "2        Kevin Rodriguez      M  12th             90          60  \n",
       "3      Dr. Richard Scott      M  12th             67          58  \n",
       "4             Bonnie Ray      F   9th             97          84  \n",
       "...                  ...    ...   ...            ...         ...  \n",
       "39165       Donna Howard      F  12th             99          90  \n",
       "39166          Dawn Bell      F  10th             95          70  \n",
       "39167     Rebecca Tanner      F   9th             73          84  \n",
       "39168       Desiree Kidd      F  10th             99          90  \n",
       "39169    Carolyn Jackson      F  11th             95          75  \n",
       "\n",
       "[39170 rows x 11 columns]"
      ]
     },
     "execution_count": 2,
     "metadata": {},
     "output_type": "execute_result"
    }
   ],
   "source": [
    "df = pd.read_csv(\"/Users/morgancordray/Desktop/programming/UA-PHX-DATA-PT-08-2019-U-C/02-Homework/04-Pandas/Instructions/PyCitySchools/Resources/schools_complete.csv\")\n",
    "df2 = pd.read_csv(\"/Users/morgancordray/Desktop/programming/UA-PHX-DATA-PT-08-2019-U-C/02-Homework/04-Pandas/Instructions/PyCitySchools/Resources/students_complete.csv\")\n",
    "df3 = pd.merge(df, df2)\n",
    "df3"
   ]
  },
  {
   "cell_type": "code",
   "execution_count": 3,
   "metadata": {},
   "outputs": [
    {
     "data": {
      "text/plain": [
       "['Huang_High_School',\n",
       " 'Figueroa_High_School',\n",
       " 'Shelton_High_School',\n",
       " 'Hernandez_High_School',\n",
       " 'Griffin_High_School',\n",
       " 'Wilson_High_School',\n",
       " 'Cabrera_High_School',\n",
       " 'Bailey_High_School',\n",
       " 'Holden_High_School',\n",
       " 'Pena_High_School',\n",
       " 'Wright_High_School',\n",
       " 'Rodriguez_High_School',\n",
       " 'Johnson_High_School',\n",
       " 'Ford_High_School',\n",
       " 'Thomas_High_School']"
      ]
     },
     "execution_count": 3,
     "metadata": {},
     "output_type": "execute_result"
    }
   ],
   "source": [
    "Huang_High_School = df3[df3[\"School ID\"] == 0]\n",
    "Figueroa_High_School = df3[df3[\"School ID\"] == 1]\n",
    "Shelton_High_School = df3[df3[\"School ID\"] == 2]\n",
    "Hernandez_High_School = df3[df3[\"School ID\"] == 3]\n",
    "Griffin_High_School = df3[df3[\"School ID\"] == 4]\n",
    "Wilson_High_School = df3[df3[\"School ID\"] == 5]\n",
    "Cabrera_High_School = df3[df3[\"School ID\"] == 6]\n",
    "Bailey_High_School = df3[df3[\"School ID\"] == 7]\n",
    "Holden_High_School = df3[df3[\"School ID\"] == 8]\n",
    "Pena_High_School = df3[df3[\"School ID\"] == 9]\n",
    "Wright_High_School = df3[df3[\"School ID\"] == 10]\n",
    "Rodriguez_High_School = df3[df3[\"School ID\"] == 11]\n",
    "Johnson_High_School = df3[df3[\"School ID\"] == 12]\n",
    "Ford_High_School = df3[df3[\"School ID\"] == 13]\n",
    "Thomas_High_School = df3[df3[\"School ID\"] == 14]\n",
    "\n",
    "High_schools = [x for x in df[\"school_name\"]]\n",
    "for x in range(len(High_schools)):\n",
    "    High_schools[x] = High_schools[x].replace(\" \", \"_\")\n",
    "High_schools"
   ]
  },
  {
   "cell_type": "code",
   "execution_count": 4,
   "metadata": {},
   "outputs": [
    {
     "data": {
      "text/plain": [
       "0        79\n",
       "1        61\n",
       "2        60\n",
       "3        58\n",
       "4        84\n",
       "         ..\n",
       "37535    76\n",
       "37536    82\n",
       "37537    90\n",
       "37538    69\n",
       "37539    76\n",
       "Name: math_score, Length: 75, dtype: int64"
      ]
     },
     "execution_count": 4,
     "metadata": {},
     "output_type": "execute_result"
    }
   ],
   "source": [
    "groupby_df = df3.groupby([\"school_name\"])\n",
    "\n",
    "groupby_df[\"math_score\"].head()\n"
   ]
  },
  {
   "cell_type": "code",
   "execution_count": 5,
   "metadata": {},
   "outputs": [
    {
     "name": "stdout",
     "output_type": "stream",
     "text": [
      "<class 'pandas.core.frame.DataFrame'>\n",
      "RangeIndex: 15 entries, 0 to 14\n",
      "Data columns (total 5 columns):\n",
      "School ID      15 non-null int64\n",
      "school_name    15 non-null object\n",
      "type           15 non-null object\n",
      "size           15 non-null int64\n",
      "budget         15 non-null int64\n",
      "dtypes: int64(3), object(2)\n",
      "memory usage: 728.0+ bytes\n"
     ]
    }
   ],
   "source": [
    "df.info()"
   ]
  },
  {
   "cell_type": "code",
   "execution_count": null,
   "metadata": {},
   "outputs": [],
   "source": []
  },
  {
   "cell_type": "code",
   "execution_count": 6,
   "metadata": {},
   "outputs": [],
   "source": [
    "\n",
    "#round(df3[\"math_score\"].sum()/39169,2)\n"
   ]
  },
  {
   "cell_type": "code",
   "execution_count": null,
   "metadata": {},
   "outputs": [],
   "source": [
    "\n"
   ]
  },
  {
   "cell_type": "code",
   "execution_count": null,
   "metadata": {},
   "outputs": [],
   "source": [
    "\n"
   ]
  },
  {
   "cell_type": "code",
   "execution_count": 7,
   "metadata": {},
   "outputs": [
    {
     "data": {
      "text/plain": [
       "80.7809505398912"
      ]
     },
     "execution_count": 7,
     "metadata": {},
     "output_type": "execute_result"
    }
   ],
   "source": [
    "mathabove60 = df3.loc[df3[\"math_score\"]>=60]\n",
    "readingabove60 = df3.loc[df3[\"reading_score\"]>=60]\n",
    "mathabove60.math_score.mean()"
   ]
  },
  {
   "cell_type": "code",
   "execution_count": 13,
   "metadata": {},
   "outputs": [
    {
     "data": {
      "text/plain": [
       "Bailey High School       0.90\n",
       "Cabrera High School      1.00\n",
       "Figueroa High School     0.88\n",
       "Ford High School         0.89\n",
       "Griffin High School      1.00\n",
       "Hernandez High School    0.89\n",
       "Holden High School       1.00\n",
       "Huang High School        0.89\n",
       "Johnson High School      0.89\n",
       "Pena High School         1.00\n",
       "Rodriguez High School    0.89\n",
       "Shelton High School      1.00\n",
       "Thomas High School       1.00\n",
       "Wilson High School       1.00\n",
       "Wright High School       1.00\n",
       "dtype: float64"
      ]
     },
     "execution_count": 13,
     "metadata": {},
     "output_type": "execute_result"
    }
   ],
   "source": [
    "School = df[[\"school_name\",\"type\",\"size\",\"budget\"]]\n",
    "School[\"per_student\"] = School[\"budget\"]/School[\"size\"]\n",
    "#School[\"avg_math\"] = groupby_df[\"math_score\"].sum(/ groupby_df[\"size\"]\n",
    "groupby_df[\"math_score\"].mean() \n",
    "School = pd.merge(School, groupby_df[\"math_score\"].mean(), on=\"school_name\")\n",
    "groupby_df[\"reading_score\"].mean()\n",
    "School = pd.merge(School,groupby_df[\"reading_score\"].mean(), on=\"school_name\")\n",
    "#m = mathabove60.groupby([\"school_name\"])\n",
    "#m.head()\n",
    "df3_groupby= df3.groupby([\"school_name\"]).mean()\n",
    "#r = readingabove60.groupby([\"school_name\"])\n",
    "#School[\"avg_reading\"] = \n",
    "#readingabove60.school_name.value_counts() / df3_groupby[\"size\"]\n",
    "j = mathabove60.school_name.value_counts().astype(\"float\")\n",
    "j\n",
    "#School[\"avg_math\"] =\n",
    "round(j / df3_groupby[\"size\"],2)\n",
    "\n",
    "\n",
    "#df3_groupby[\"size\"]\n",
    "#m[\"avg_math\"] = m[\"size\"] / m[\"math_score\"]\n",
    "#School\n",
    "#math_total = pd.DataFrame({\"above60\": m, \"total\": m1})\n",
    "#math_total"
   ]
  },
  {
   "cell_type": "markdown",
   "metadata": {},
   "source": [
    "school_id"
   ]
  },
  {
   "cell_type": "code",
   "execution_count": null,
   "metadata": {},
   "outputs": [],
   "source": [
    "District = pd.DataFrame({\"District\":\n",
    "    [\"Total Schools\",\n",
    "    \"Total Students\",\n",
    "    \"Total Budget\",\n",
    "    \"Average Math Score\",\n",
    "    \"Average Reading Score\",\n",
    "    \"Passing Math\",\n",
    "    \"Passing Reading\",\n",
    "    \"Overall Passing Rate\"],\"Value\": [df[\"school_name\"].count(),df[\"size\"].sum(),df[\"budget\"].sum(),\n",
    "                                      Avg_math, Avg_reading,(df3[\"math_score\"]>=60).count(),\n",
    "                                    (df3[\"reading_score\"]>= 60).count(), ((df2[\"reading_score\"]>= 60).count() + (df2[\"math_score\"]>=60).count())/2]})\n",
    "District"
   ]
  },
  {
   "cell_type": "code",
   "execution_count": null,
   "metadata": {},
   "outputs": [],
   "source": [
    "Huang_High_School.to_excel(excel_writer = \"readingData.xls\")"
   ]
  },
  {
   "cell_type": "code",
   "execution_count": null,
   "metadata": {},
   "outputs": [],
   "source": [
    "df3.reading_score[2].mean()"
   ]
  },
  {
   "cell_type": "code",
   "execution_count": null,
   "metadata": {},
   "outputs": [],
   "source": []
  },
  {
   "cell_type": "markdown",
   "metadata": {},
   "source": []
  },
  {
   "cell_type": "code",
   "execution_count": null,
   "metadata": {},
   "outputs": [],
   "source": [
    "scoresabove60[\"math_score\"][1]"
   ]
  },
  {
   "cell_type": "code",
   "execution_count": null,
   "metadata": {},
   "outputs": [],
   "source": []
  },
  {
   "cell_type": "code",
   "execution_count": null,
   "metadata": {},
   "outputs": [],
   "source": [
    "Math_scores = pd.DataFrame({\"9th Grade\": [Huang_High_School[\"math_score\"].loc[Huang_High_School[\"grade\"]==\"9th\"].mean(),\n",
    "                Figueroa_High_School[\"math_score\"].loc[Figueroa_High_School[\"grade\"]==\"9th\"].mean(),\n",
    "                Shelton_High_School[\"math_score\"].loc[Shelton_High_School[\"grade\"]==\"9th\"].mean(),\n",
    "                Hernandez_High_School[\"math_score\"].loc[Hernandez_High_School[\"grade\"]==\"9th\"].mean(),\n",
    "                Griffin_High_School[\"math_score\"].loc[Griffin_High_School[\"grade\"]==\"9th\"].mean(),\n",
    "                Wilson_High_School[\"math_score\"].loc[Wilson_High_School[\"grade\"]==\"9th\"].mean(),\n",
    "                Cabrera_High_School[\"math_score\"].loc[Cabrera_High_School[\"grade\"]==\"9th\"].mean(),\n",
    "                Bailey_High_School[\"math_score\"].loc[Bailey_High_School[\"grade\"]==\"9th\"].mean(),\n",
    "                Holden_High_School[\"math_score\"].loc[Holden_High_School[\"grade\"]==\"9th\"].mean(),\n",
    "                Pena_High_School[\"math_score\"].loc[Pena_High_School[\"grade\"]==\"9th\"].mean(),\n",
    "                Wright_High_School[\"math_score\"].loc[Wright_High_School[\"grade\"]==\"9th\"].mean(),\n",
    "                Rodriguez_High_School[\"math_score\"].loc[Rodriguez_High_School[\"grade\"]==\"9th\"].mean(),\n",
    "                Johnson_High_School[\"math_score\"].loc[Johnson_High_School[\"grade\"]==\"9th\"].mean(),\n",
    "                Ford_High_School[\"math_score\"].loc[Ford_High_School[\"grade\"]==\"9th\"].mean()],\n",
    "               \"10th Grade\": [Huang_High_School[\"math_score\"].loc[Huang_High_School[\"grade\"]==\"10th\"].mean(),\n",
    "                Figueroa_High_School[\"math_score\"].loc[Figueroa_High_School[\"grade\"]==\"10th\"].mean(),\n",
    "                Shelton_High_School[\"math_score\"].loc[Shelton_High_School[\"grade\"]==\"10th\"].mean(),\n",
    "                Hernandez_High_School[\"math_score\"].loc[Hernandez_High_School[\"grade\"]==\"10th\"].mean(),\n",
    "                Griffin_High_School[\"math_score\"].loc[Griffin_High_School[\"grade\"]==\"10th\"].mean(),\n",
    "                Wilson_High_School[\"math_score\"].loc[Wilson_High_School[\"grade\"]==\"10th\"].mean(),\n",
    "                Cabrera_High_School[\"math_score\"].loc[Cabrera_High_School[\"grade\"]==\"10th\"].mean(),\n",
    "                Bailey_High_School[\"math_score\"].loc[Bailey_High_School[\"grade\"]==\"10th\"].mean(),\n",
    "                Holden_High_School[\"math_score\"].loc[Holden_High_School[\"grade\"]==\"10th\"].mean(),\n",
    "                Pena_High_School[\"math_score\"].loc[Pena_High_School[\"grade\"]==\"10th\"].mean(),\n",
    "                Wright_High_School[\"math_score\"].loc[Wright_High_School[\"grade\"]==\"10th\"].mean(),\n",
    "                Rodriguez_High_School[\"math_score\"].loc[Rodriguez_High_School[\"grade\"]==\"10th\"].mean(),\n",
    "                Johnson_High_School[\"math_score\"].loc[Johnson_High_School[\"grade\"]==\"10th\"].mean(),\n",
    "                Ford_High_School[\"math_score\"].loc[Ford_High_School[\"grade\"]==\"10th\"].mean()],\n",
    "               \"11th Grade\":[Huang_High_School[\"math_score\"].loc[Huang_High_School[\"grade\"]==\"11th\"].mean(),\n",
    "                Figueroa_High_School[\"math_score\"].loc[Figueroa_High_School[\"grade\"]==\"11th\"].mean(),\n",
    "                Shelton_High_School[\"math_score\"].loc[Shelton_High_School[\"grade\"]==\"11th\"].mean(),\n",
    "                Hernandez_High_School[\"math_score\"].loc[Hernandez_High_School[\"grade\"]==\"11th\"].mean(),\n",
    "                Griffin_High_School[\"math_score\"].loc[Griffin_High_School[\"grade\"]==\"11th\"].mean(),\n",
    "                Wilson_High_School[\"math_score\"].loc[Wilson_High_School[\"grade\"]==\"11th\"].mean(),\n",
    "                Cabrera_High_School[\"math_score\"].loc[Cabrera_High_School[\"grade\"]==\"11th\"].mean(),\n",
    "                Bailey_High_School[\"math_score\"].loc[Bailey_High_School[\"grade\"]==\"11th\"].mean(),\n",
    "                Holden_High_School[\"math_score\"].loc[Holden_High_School[\"grade\"]==\"11th\"].mean(),\n",
    "                Pena_High_School[\"math_score\"].loc[Pena_High_School[\"grade\"]==\"11th\"].mean(),\n",
    "                Wright_High_School[\"math_score\"].loc[Wright_High_School[\"grade\"]==\"11th\"].mean(),\n",
    "                Rodriguez_High_School[\"math_score\"].loc[Rodriguez_High_School[\"grade\"]==\"11th\"].mean(),\n",
    "                Johnson_High_School[\"math_score\"].loc[Johnson_High_School[\"grade\"]==\"11th\"].mean(),\n",
    "                Ford_High_School[\"math_score\"].loc[Ford_High_School[\"grade\"]==\"11th\"].mean()],\n",
    "               \"12th Grade\":[Huang_High_School[\"math_score\"].loc[Huang_High_School[\"grade\"]==\"12th\"].mean(),\n",
    "                Figueroa_High_School[\"math_score\"].loc[Figueroa_High_School[\"grade\"]==\"12th\"].mean(),\n",
    "                Shelton_High_School[\"math_score\"].loc[Shelton_High_School[\"grade\"]==\"12th\"].mean(),\n",
    "                Hernandez_High_School[\"math_score\"].loc[Hernandez_High_School[\"grade\"]==\"12th\"].mean(),\n",
    "                Griffin_High_School[\"math_score\"].loc[Griffin_High_School[\"grade\"]==\"12th\"].mean(),\n",
    "                Wilson_High_School[\"math_score\"].loc[Wilson_High_School[\"grade\"]==\"12th\"].mean(),\n",
    "                Cabrera_High_School[\"math_score\"].loc[Cabrera_High_School[\"grade\"]==\"12th\"].mean(),\n",
    "                Bailey_High_School[\"math_score\"].loc[Bailey_High_School[\"grade\"]==\"12th\"].mean(),\n",
    "                Holden_High_School[\"math_score\"].loc[Holden_High_School[\"grade\"]==\"12th\"].mean(),\n",
    "                Pena_High_School[\"math_score\"].loc[Pena_High_School[\"grade\"]==\"12th\"].mean(),\n",
    "                Wright_High_School[\"math_score\"].loc[Wright_High_School[\"grade\"]==\"12th\"].mean(),\n",
    "                Rodriguez_High_School[\"math_score\"].loc[Rodriguez_High_School[\"grade\"]==\"12th\"].mean(),\n",
    "                Johnson_High_School[\"math_score\"].loc[Johnson_High_School[\"grade\"]==\"12th\"].mean(),\n",
    "                Ford_High_School[\"math_score\"].loc[Ford_High_School[\"grade\"]==\"12th\"].mean()]\n",
    "    \n",
    "})\n",
    "Math_scores"
   ]
  },
  {
   "cell_type": "code",
   "execution_count": null,
   "metadata": {},
   "outputs": [],
   "source": [
    "Reading_scores = pd.DataFrame({\"9th Grade\": [Huang_High_School[\"reading_score\"].loc[Huang_High_School[\"grade\"]==\"9th\"].mean(),\n",
    "                Figueroa_High_School[\"reading_score\"].loc[Figueroa_High_School[\"grade\"]==\"9th\"].mean(),\n",
    "                Shelton_High_School[\"reading_score\"].loc[Shelton_High_School[\"grade\"]==\"9th\"].mean(),\n",
    "                Hernandez_High_School[\"reading_score\"].loc[Hernandez_High_School[\"grade\"]==\"9th\"].mean(),\n",
    "                Griffin_High_School[\"reading_score\"].loc[Griffin_High_School[\"grade\"]==\"9th\"].mean(),\n",
    "                Wilson_High_School[\"reading_score\"].loc[Wilson_High_School[\"grade\"]==\"9th\"].mean(),\n",
    "                Cabrera_High_School[\"reading_score\"].loc[Cabrera_High_School[\"grade\"]==\"9th\"].mean(),\n",
    "                Bailey_High_School[\"reading_score\"].loc[Bailey_High_School[\"grade\"]==\"9th\"].mean(),\n",
    "                Holden_High_School[\"reading_score\"].loc[Holden_High_School[\"grade\"]==\"9th\"].mean(),\n",
    "                Pena_High_School[\"reading_score\"].loc[Pena_High_School[\"grade\"]==\"9th\"].mean(),\n",
    "                Wright_High_School[\"reading_score\"].loc[Wright_High_School[\"grade\"]==\"9th\"].mean(),\n",
    "                Rodriguez_High_School[\"reading_score\"].loc[Rodriguez_High_School[\"grade\"]==\"9th\"].mean(),\n",
    "                Johnson_High_School[\"reading_score\"].loc[Johnson_High_School[\"grade\"]==\"9th\"].mean(),\n",
    "                Ford_High_School[\"reading_score\"].loc[Ford_High_School[\"grade\"]==\"9th\"].mean()],\n",
    "               \"10th Grade\": [Huang_High_School[\"reading_score\"].loc[Huang_High_School[\"grade\"]==\"10th\"].mean(),\n",
    "                Figueroa_High_School[\"reading_score\"].loc[Figueroa_High_School[\"grade\"]==\"10th\"].mean(),\n",
    "                Shelton_High_School[\"reading_score\"].loc[Shelton_High_School[\"grade\"]==\"10th\"].mean(),\n",
    "                Hernandez_High_School[\"reading_score\"].loc[Hernandez_High_School[\"grade\"]==\"10th\"].mean(),\n",
    "                Griffin_High_School[\"reading_score\"].loc[Griffin_High_School[\"grade\"]==\"10th\"].mean(),\n",
    "                Wilson_High_School[\"reading_score\"].loc[Wilson_High_School[\"grade\"]==\"10th\"].mean(),\n",
    "                Cabrera_High_School[\"reading_score\"].loc[Cabrera_High_School[\"grade\"]==\"10th\"].mean(),\n",
    "                Bailey_High_School[\"reading_score\"].loc[Bailey_High_School[\"grade\"]==\"10th\"].mean(),\n",
    "                Holden_High_School[\"reading_score\"].loc[Holden_High_School[\"grade\"]==\"10th\"].mean(),\n",
    "                Pena_High_School[\"reading_score\"].loc[Pena_High_School[\"grade\"]==\"10th\"].mean(),\n",
    "                Wright_High_School[\"reading_score\"].loc[Wright_High_School[\"grade\"]==\"10th\"].mean(),\n",
    "                Rodriguez_High_School[\"reading_score\"].loc[Rodriguez_High_School[\"grade\"]==\"10th\"].mean(),\n",
    "                Johnson_High_School[\"reading_score\"].loc[Johnson_High_School[\"grade\"]==\"10th\"].mean(),\n",
    "                Ford_High_School[\"reading_score\"].loc[Ford_High_School[\"grade\"]==\"10th\"].mean()],\n",
    "               \"11th Grade\":[Huang_High_School[\"reading_score\"].loc[Huang_High_School[\"grade\"]==\"11th\"].mean(),\n",
    "                Figueroa_High_School[\"reading_score\"].loc[Figueroa_High_School[\"grade\"]==\"11th\"].mean(),\n",
    "                Shelton_High_School[\"reading_score\"].loc[Shelton_High_School[\"grade\"]==\"11th\"].mean(),\n",
    "                Hernandez_High_School[\"reading_score\"].loc[Hernandez_High_School[\"grade\"]==\"11th\"].mean(),\n",
    "                Griffin_High_School[\"reading_score\"].loc[Griffin_High_School[\"grade\"]==\"11th\"].mean(),\n",
    "                Wilson_High_School[\"reading_score\"].loc[Wilson_High_School[\"grade\"]==\"11th\"].mean(),\n",
    "                Cabrera_High_School[\"reading_score\"].loc[Cabrera_High_School[\"grade\"]==\"11th\"].mean(),\n",
    "                Bailey_High_School[\"reading_score\"].loc[Bailey_High_School[\"grade\"]==\"11th\"].mean(),\n",
    "                Holden_High_School[\"reading_score\"].loc[Holden_High_School[\"grade\"]==\"11th\"].mean(),\n",
    "                Pena_High_School[\"reading_score\"].loc[Pena_High_School[\"grade\"]==\"11th\"].mean(),\n",
    "                Wright_High_School[\"reading_score\"].loc[Wright_High_School[\"grade\"]==\"11th\"].mean(),\n",
    "                Rodriguez_High_School[\"reading_score\"].loc[Rodriguez_High_School[\"grade\"]==\"11th\"].mean(),\n",
    "                Johnson_High_School[\"reading_score\"].loc[Johnson_High_School[\"grade\"]==\"11th\"].mean(),\n",
    "                Ford_High_School[\"reading_score\"].loc[Ford_High_School[\"grade\"]==\"11th\"].mean()],\n",
    "               \"12th Grade\":[Huang_High_School[\"reading_score\"].loc[Huang_High_School[\"grade\"]==\"12th\"].mean(),\n",
    "                Figueroa_High_School[\"reading_score\"].loc[Figueroa_High_School[\"grade\"]==\"12th\"].mean(),\n",
    "                Shelton_High_School[\"reading_score\"].loc[Shelton_High_School[\"grade\"]==\"12th\"].mean(),\n",
    "                Hernandez_High_School[\"reading_score\"].loc[Hernandez_High_School[\"grade\"]==\"12th\"].mean(),\n",
    "                Griffin_High_School[\"reading_score\"].loc[Griffin_High_School[\"grade\"]==\"12th\"].mean(),\n",
    "                Wilson_High_School[\"reading_score\"].loc[Wilson_High_School[\"grade\"]==\"12th\"].mean(),\n",
    "                Cabrera_High_School[\"reading_score\"].loc[Cabrera_High_School[\"grade\"]==\"12th\"].mean(),\n",
    "                Bailey_High_School[\"reading_score\"].loc[Bailey_High_School[\"grade\"]==\"12th\"].mean(),\n",
    "                Holden_High_School[\"reading_score\"].loc[Holden_High_School[\"grade\"]==\"12th\"].mean(),\n",
    "                Pena_High_School[\"reading_score\"].loc[Pena_High_School[\"grade\"]==\"12th\"].mean(),\n",
    "                Wright_High_School[\"reading_score\"].loc[Wright_High_School[\"grade\"]==\"12th\"].mean(),\n",
    "                Rodriguez_High_School[\"reading_score\"].loc[Rodriguez_High_School[\"grade\"]==\"12th\"].mean(),\n",
    "                Johnson_High_School[\"reading_score\"].loc[Johnson_High_School[\"grade\"]==\"12th\"].mean(),\n",
    "                Ford_High_School[\"reading_score\"].loc[Ford_High_School[\"grade\"]==\"12th\"].mean()]\n",
    "    \n",
    "})\n",
    "Reading_scores"
   ]
  },
  {
   "cell_type": "code",
   "execution_count": null,
   "metadata": {},
   "outputs": [],
   "source": [
    "Reading_scores['School ID'] = Reading_scores.index\n",
    "Math_scores['School ID'] = Math_scores.index\n",
    "df3[\"budget\"].max()"
   ]
  },
  {
   "cell_type": "code",
   "execution_count": null,
   "metadata": {},
   "outputs": [],
   "source": [
    "df3[\"budget\"].min()"
   ]
  },
  {
   "cell_type": "code",
   "execution_count": null,
   "metadata": {},
   "outputs": [],
   "source": [
    "bins = [0,750000,1500000,2250000,3250000]"
   ]
  },
  {
   "cell_type": "code",
   "execution_count": null,
   "metadata": {},
   "outputs": [],
   "source": [
    "bin_values = [\"0 to 750,000\",\"750,000 to 1,500,000\",\"1,500,000 to 2,250,000\",\"2,250,000 to 3,250,000\"]"
   ]
  },
  {
   "cell_type": "code",
   "execution_count": null,
   "metadata": {},
   "outputs": [],
   "source": [
    "df_cut=pd.cut(df[\"budget\"], bins, labels=bin_values)\n",
    "df_cut\n",
    "df_new = df"
   ]
  },
  {
   "cell_type": "code",
   "execution_count": null,
   "metadata": {},
   "outputs": [],
   "source": [
    "df_new[\"spending range\"] = df_cut\n",
    "df_new"
   ]
  },
  {
   "cell_type": "code",
   "execution_count": null,
   "metadata": {},
   "outputs": [],
   "source": [
    "df_new = pd.merge(df_new, Reading_scores, on=\"School ID\")"
   ]
  },
  {
   "cell_type": "code",
   "execution_count": null,
   "metadata": {},
   "outputs": [],
   "source": [
    "df_new = df_new.rename(columns={\"9th Grade\":\"9th Grade Reading\",\"10th Grade\":\"10th Grade Reading\",\"11th Grade\":\"11th Grade Reading\",\"12th Grade\":\"12th Grade Reading\"})"
   ]
  },
  {
   "cell_type": "code",
   "execution_count": null,
   "metadata": {},
   "outputs": [],
   "source": [
    "df_new"
   ]
  },
  {
   "cell_type": "code",
   "execution_count": null,
   "metadata": {},
   "outputs": [],
   "source": [
    "df_new = pd.merge(df_new, Math_scores, on=\"School ID\")"
   ]
  },
  {
   "cell_type": "code",
   "execution_count": null,
   "metadata": {},
   "outputs": [],
   "source": [
    "df_new = df_new.rename(columns={\"9th Grade\":\"9th Grade Math\",\"10th Grade\":\"10th Grade Math\",\"11th Grade\":\"11th Grade Math\",\"12th Grade\":\"12th Grade Math\"})"
   ]
  },
  {
   "cell_type": "code",
   "execution_count": null,
   "metadata": {},
   "outputs": [],
   "source": [
    "df_new\n"
   ]
  },
  {
   "cell_type": "code",
   "execution_count": null,
   "metadata": {},
   "outputs": [],
   "source": [
    "df_new"
   ]
  },
  {
   "cell_type": "code",
   "execution_count": null,
   "metadata": {},
   "outputs": [],
   "source": [
    "Passing_rate = df[[\"school_name\"]]"
   ]
  },
  {
   "cell_type": "code",
   "execution_count": null,
   "metadata": {},
   "outputs": [],
   "source": [
    "Passing_rate[\"Over_all_passing\"] = (df['9th Grade Math'].count()/ df[\"size\"][x] + df['9th Grade Reading'].count()/ df[\"size\"][x])/2"
   ]
  },
  {
   "cell_type": "code",
   "execution_count": null,
   "metadata": {},
   "outputs": [],
   "source": [
    "\n"
   ]
  },
  {
   "cell_type": "code",
   "execution_count": null,
   "metadata": {},
   "outputs": [],
   "source": []
  }
 ],
 "metadata": {
  "kernelspec": {
   "display_name": "Python 3",
   "language": "python",
   "name": "python3"
  },
  "language_info": {
   "codemirror_mode": {
    "name": "ipython",
    "version": 3
   },
   "file_extension": ".py",
   "mimetype": "text/x-python",
   "name": "python",
   "nbconvert_exporter": "python",
   "pygments_lexer": "ipython3",
   "version": "3.7.4"
  }
 },
 "nbformat": 4,
 "nbformat_minor": 2
}
